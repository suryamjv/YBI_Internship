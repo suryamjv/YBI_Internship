{
  "nbformat": 4,
  "nbformat_minor": 0,
  "metadata": {
    "colab": {
      "provenance": [],
      "authorship_tag": "ABX9TyMqFgYrNRoXQemCbNyTrm2K",
      "include_colab_link": true
    },
    "kernelspec": {
      "name": "python3",
      "display_name": "Python 3"
    },
    "language_info": {
      "name": "python"
    }
  },
  "cells": [
    {
      "cell_type": "markdown",
      "metadata": {
        "id": "view-in-github",
        "colab_type": "text"
      },
      "source": [
        "<a href=\"https://colab.research.google.com/github/suryamjv/YBI_Internship/blob/main/Internship_Project_1.ipynb\" target=\"_parent\"><img src=\"https://colab.research.google.com/assets/colab-badge.svg\" alt=\"Open In Colab\"/></a>"
      ]
    },
    {
      "cell_type": "markdown",
      "source": [
        "# ***Mileage Prediction - Regression Analysis***"
      ],
      "metadata": {
        "id": "JKle7GQt17dX"
      }
    },
    {
      "cell_type": "markdown",
      "source": [
        "## **Source:**\n",
        "\n",
        "This dataset was taken from the StatLib library which is maintained at Carnegie Mellon University. The dataset was used in the 1983 American Statistical Association Exposition.\n",
        "\n",
        "## **Data Set Information:**\n",
        "\n",
        "\n",
        "This dataset is a slightly modified version of the dataset provided in the StatLib library. In line with the use by Ross Quinlan (1993) in predicting the attribute \"mpg\", 8 of the original instances were removed because they had unknown values for the 'mpg' attribute. The original dataset is available in the file \"auto-mpg.data-original\".\n",
        "\n",
        "\"The data concerns city-cycle fuel consumption in miles per gallon, to be predicted in terms of 3 multivalued discrete and 5 continuous attributes.\" (Quinlan, 1993)\n",
        "\n",
        "## **Attribute Information:**\n",
        "\n",
        "1. mpg: continuous\n",
        "\n",
        "2. cylinders: multi-valued discrete\n",
        "\n",
        "3. displacement: continuous\n",
        "\n",
        "4. horsepower: continuous\n",
        "\n",
        "5. weight: continuous\n",
        "\n",
        "6. acceleration: continuous\n",
        "\n",
        "7. model year: multi-valued discrete\n",
        "\n",
        "8. origin: multi-valued discrete\n",
        "\n",
        "9. car name: string (unique for each instance)"
      ],
      "metadata": {
        "id": "evTNWqdt39Ez"
      }
    },
    {
      "cell_type": "markdown",
      "source": [
        "## **Import Library**"
      ],
      "metadata": {
        "id": "hvQwLiVK49-6"
      }
    },
    {
      "cell_type": "code",
      "execution_count": null,
      "metadata": {
        "id": "QTbSbTNT1oI4"
      },
      "outputs": [],
      "source": [
        "import pandas as pd\n",
        "import numpy as np\n",
        "import matplotlib.pyplot as plt\n",
        "import seaborn as sns"
      ]
    },
    {
      "cell_type": "markdown",
      "source": [
        "## **Import Data**"
      ],
      "metadata": {
        "id": "CDqlSDdx6Frx"
      }
    },
    {
      "cell_type": "code",
      "source": [
        "data=pd.read_csv(\"https://github.com/YBI-Foundation/Dataset/raw/main/MPG.csv\")"
      ],
      "metadata": {
        "id": "picNaIa16L36"
      },
      "execution_count": 33,
      "outputs": []
    },
    {
      "cell_type": "markdown",
      "source": [
        "## **Describe Data**"
      ],
      "metadata": {
        "id": "vA_uvDwy7IoF"
      }
    },
    {
      "cell_type": "code",
      "source": [
        "data.head()\n",
        "data.nunique()\n",
        "data.info()\n",
        "data.describe()\n",
        "data.corr()\n",
        "data=data.dropna()"
      ],
      "metadata": {
        "id": "zhmR7p3761_m"
      },
      "execution_count": null,
      "outputs": []
    },
    {
      "cell_type": "markdown",
      "source": [
        "## **Data Visualization**"
      ],
      "metadata": {
        "id": "xdkfPPo_8gyy"
      }
    },
    {
      "cell_type": "code",
      "source": [
        "sns.pairplot(data,x_vars=['displacement', 'horsepower', 'weight','acceleration','mpg'],y_vars=['mpg'])"
      ],
      "metadata": {
        "id": "vcy8WkTG7QOC"
      },
      "execution_count": null,
      "outputs": []
    },
    {
      "cell_type": "code",
      "source": [
        "sns.regplot(x='displacement',y='mpg',data=data)"
      ],
      "metadata": {
        "id": "fS81qVhT9U_a"
      },
      "execution_count": null,
      "outputs": []
    },
    {
      "cell_type": "markdown",
      "source": [
        "## **Define Target Vaiable Y and Feature X**"
      ],
      "metadata": {
        "id": "hv5GwQ_O94AP"
      }
    },
    {
      "cell_type": "code",
      "source": [
        "data.columns"
      ],
      "metadata": {
        "colab": {
          "base_uri": "https://localhost:8080/"
        },
        "id": "fYqfwbDp830V",
        "outputId": "65f575e3-ca95-4c4b-ca8e-63bce93499a9"
      },
      "execution_count": null,
      "outputs": [
        {
          "output_type": "execute_result",
          "data": {
            "text/plain": [
              "Index(['mpg', 'cylinders', 'displacement', 'horsepower', 'weight',\n",
              "       'acceleration', 'model_year', 'origin', 'name'],\n",
              "      dtype='object')"
            ]
          },
          "metadata": {},
          "execution_count": 10
        }
      ]
    },
    {
      "cell_type": "code",
      "source": [
        "y=data['mpg']\n",
        "y.shape\n",
        "x=data[['displacement', 'horsepower', 'weight','acceleration']]\n",
        "x.shape"
      ],
      "metadata": {
        "id": "FsR7MaWx9s2O"
      },
      "execution_count": null,
      "outputs": []
    },
    {
      "cell_type": "markdown",
      "source": [
        "## **Scaling Data**"
      ],
      "metadata": {
        "id": "3pRDZNwt-qlL"
      }
    },
    {
      "cell_type": "code",
      "source": [
        "from sklearn.preprocessing import StandardScaler\n",
        "ss= StandardScaler()\n",
        "x=ss.fit_transform(x)\n",
        "pd.DataFrame(x).describe()"
      ],
      "metadata": {
        "id": "uRmYVLAY-Py5"
      },
      "execution_count": null,
      "outputs": []
    },
    {
      "cell_type": "markdown",
      "source": [
        "After Standardization Mean is Zero and Standrad Deviation is **One**"
      ],
      "metadata": {
        "id": "Jqoja6rY_jTm"
      }
    },
    {
      "cell_type": "markdown",
      "source": [
        "## **Train Test Split Data**"
      ],
      "metadata": {
        "id": "pSnXcnyR_2cp"
      }
    },
    {
      "cell_type": "code",
      "source": [
        "from sklearn.model_selection import train_test_split\n",
        "x_train,x_test,y_train,y_test=train_test_split(x,y,train_size=0.7,random_state=2529)\n",
        "x_train.shape,x_test.shape,y_train.shape,y_test.shape"
      ],
      "metadata": {
        "id": "hDXuPyJO_JO4"
      },
      "execution_count": null,
      "outputs": []
    },
    {
      "cell_type": "code",
      "source": [
        "from sklearn.linear_model import LinearRegression\n",
        "Ir=LinearRegression()\n",
        "Ir.fit(x_train, y_train)\n",
        "LinearRegression()\n",
        "Ir.intercept_\n",
        "Ir.coef_"
      ],
      "metadata": {
        "id": "AljKnMa4Alf3"
      },
      "execution_count": null,
      "outputs": []
    },
    {
      "cell_type": "markdown",
      "source": [
        "Mileage = 23.4-1.05 Displacemet 1.68 Horsepower-4.10 Weight 0.115 Acceleration + **error**"
      ],
      "metadata": {
        "id": "-TlT3oz4CAfI"
      }
    },
    {
      "cell_type": "markdown",
      "source": [
        "## **Predict Test Data**"
      ],
      "metadata": {
        "id": "p8zBW3RzCRKf"
      }
    },
    {
      "cell_type": "code",
      "source": [
        "y_pred=Ir.predict(x_test)\n",
        "y_pred"
      ],
      "metadata": {
        "id": "jqC-RxRBBp9Z"
      },
      "execution_count": null,
      "outputs": []
    },
    {
      "cell_type": "markdown",
      "source": [
        "## **Model Accuracy**"
      ],
      "metadata": {
        "id": "cg98oRJuGZ0y"
      }
    },
    {
      "cell_type": "code",
      "source": [
        "from sklearn.metrics import mean_absolute_error, mean_absolute_percentage_error, r2_score\n",
        "mean_absolute_error(y_test, y_pred)\n",
        "mean_absolute_percentage_error(y_test, y_pred)\n",
        "r2_score (y_test, y_pred)"
      ],
      "metadata": {
        "colab": {
          "base_uri": "https://localhost:8080/"
        },
        "id": "PiKBbykADWVD",
        "outputId": "14a6da1f-ddba-41bd-bcc1-099f44aaeec8"
      },
      "execution_count": null,
      "outputs": [
        {
          "output_type": "execute_result",
          "data": {
            "text/plain": [
              "0.7031250746717692"
            ]
          },
          "metadata": {},
          "execution_count": 25
        }
      ]
    },
    {
      "cell_type": "markdown",
      "source": [
        "## **Polynomial Regression**"
      ],
      "metadata": {
        "id": "Vr_MMrlKEr-S"
      }
    },
    {
      "cell_type": "code",
      "source": [
        "from sklearn.preprocessing import PolynomialFeatures\n",
        "poly=PolynomialFeatures (degree=2, interaction_only=True, include_bias=False)\n",
        "x_train2=poly.fit_transform(x_train)\n",
        "x_test2 = poly.fit_transform(x_test)\n",
        "Ir.fit(x_train2, y_train)\n",
        "Ir.intercept_\n",
        "Ir.coef_\n",
        "y_pred_poly = Ir.predict(x_test2)"
      ],
      "metadata": {
        "id": "6_h_Gx5mELGa"
      },
      "execution_count": null,
      "outputs": []
    },
    {
      "cell_type": "markdown",
      "source": [
        "## **Model Accuracy**"
      ],
      "metadata": {
        "id": "wzjZT-r1DbIg"
      }
    },
    {
      "cell_type": "code",
      "source": [
        "from sklearn.metrics import mean_absolute_error, mean_absolute_percentage_error, r2_score\n",
        "mean_absolute_error(y_test, y_pred_poly)\n",
        "mean_absolute_percentage_error(y_test, y_pred_poly)\n",
        "r2_score (y_test, y_pred_poly)"
      ],
      "metadata": {
        "colab": {
          "base_uri": "https://localhost:8080/"
        },
        "id": "qCPkYA1bFeOJ",
        "outputId": "926e0f6e-4819-4aa5-a980-ed06cafcbb9b"
      },
      "execution_count": null,
      "outputs": [
        {
          "output_type": "execute_result",
          "data": {
            "text/plain": [
              "0.7461731314563802"
            ]
          },
          "metadata": {},
          "execution_count": 32
        }
      ]
    }
  ]
}